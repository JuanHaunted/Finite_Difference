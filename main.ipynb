{
 "cells": [
  {
   "cell_type": "markdown",
   "id": "5e337c50-2968-4947-9d35-aaeebbf87f99",
   "metadata": {},
   "source": [
    "# Capacitor de Placas Concéntricas Elípticas"
   ]
  },
  {
   "cell_type": "markdown",
   "id": "8691aa9a-2a66-418a-809c-9cd981b7c125",
   "metadata": {},
   "source": [
    "En el capacitor, la placa exterior se encuentra a un potencial eléctrico $V_{ext}(\\nu)$, mientras que la placa interior se encuentra a un potencial $V_{int}(\\nu)$. El problema de valores en la frontera descrito en coordenadas elípticas se define:\n",
    "\n",
    "$$\\frac{1}{\\sinh^2(\\mu)+\\sin^2(\\nu)} (\\frac{\\partial^2V}{\\partial\\mu^2} + \\frac{\\partial^2V}{\\partial\\nu^2}) = 0,    \\forall(\\mu,\\nu) \\in \\Omega$$\n",
    "\n",
    "$$V(0.1, \\nu) = \\sin(2\\nu), \\forall\\nu\\in[0, 2\\pi]$$\n",
    "$$V(1, \\nu) = 0, \\forall\\nu\\in[0, 2\\pi]$$\n",
    "\n",
    "donde $\\Omega$ es el dominio acotado por $\\mu \\in [0.1, 1] \\times \\nu \\in [0, 2\\pi]$."
   ]
  },
  {
   "cell_type": "code",
   "execution_count": 130,
   "id": "e36dc3b0-85d6-41b6-a562-57ab5878f003",
   "metadata": {
    "tags": []
   },
   "outputs": [],
   "source": [
    "import numpy as np\n",
    "import sympy as sp\n",
    "from sympy import init_printing, Eq\n",
    "from scipy.sparse import csr_matrix\n",
    "from scipy.sparse.linalg import spsolve\n",
    "import matplotlib.pyplot as plt\n",
    "\n",
    "init_printing()"
   ]
  },
  {
   "cell_type": "code",
   "execution_count": 57,
   "id": "b9d5fd18-a65c-4bf0-bb6d-b17811cd8b4c",
   "metadata": {
    "tags": []
   },
   "outputs": [
    {
     "data": {
      "text/latex": [
       "$\\displaystyle \\left( V_{i,j}, \\  V_{i+1,j}, \\  V_{i,j+1}, \\  V_{i-1,j}, \\  V_{i,j-1}, \\  \\triangle\\mu, \\  \\triangle\\nu, \\  \\mu, \\  \\nu\\right)$"
      ],
      "text/plain": [
       "(V_{i,j}, V_{i+1,j}, V_{i,j+1}, V_{i-1,j}, V_{i,j-1}, \\triangle\\mu, \\triangle\\nu, \\mu, \\nu)"
      ]
     },
     "execution_count": 57,
     "metadata": {},
     "output_type": "execute_result"
    }
   ],
   "source": [
    "Vij, Vi1j, Vij1, Vim1j, Vijm1, du, dv = sp.symbols(r'V_{i\\,j} V_{i+1\\,j} V_{i\\,j+1} V_{i-1\\,j} V_{i\\,j-1} \\triangle\\mu \\triangle\\nu')\n",
    "u, v = sp.symbols(r'\\mu \\nu')\n",
    "Vij, Vi1j, Vij1, Vim1j, Vijm1, du, dv, u, v"
   ]
  },
  {
   "cell_type": "markdown",
   "id": "4747ce04-02df-4b09-8a6f-e47688a9d224",
   "metadata": {},
   "source": [
    "### Escribamos el esquema de diferencias finitas "
   ]
  },
  {
   "cell_type": "code",
   "execution_count": 80,
   "id": "e9ebc9c1-80fd-4b50-995e-168c71338e55",
   "metadata": {
    "tags": []
   },
   "outputs": [
    {
     "data": {
      "text/latex": [
       "$\\displaystyle \\frac{\\triangle\\mu^{2} \\left(V_{i,j+1} + V_{i,j-1} - 2 V_{i,j}\\right) + \\triangle\\nu^{2} \\left(V_{i+1,j} - 2 V_{i,j} + V_{i-1,j}\\right)}{\\triangle\\mu^{2} \\triangle\\nu^{2}} = 0$"
      ],
      "text/plain": [
       "            2                                                   2                                        \n",
       "\\triangle\\mu ⋅(V_{i,j+1} + V_{i,j-1} - 2⋅V_{i,j}) + \\triangle\\nu ⋅(V_{i+1,j} - 2⋅V_{i,j} + V_{i-1,j})    \n",
       "───────────────────────────────────────────────────────────────────────────────────────────────────── = 0\n",
       "                                                 2             2                                         \n",
       "                                     \\triangle\\mu ⋅\\triangle\\nu                                          "
      ]
     },
     "execution_count": 80,
     "metadata": {},
     "output_type": "execute_result"
    }
   ],
   "source": [
    "laplacian = (((Vi1j - 2*Vij + Vim1j)/du**2) + ((Vij1 - 2*Vij + Vijm1)/dv**2))\n",
    "sys = Eq(laplacian, 0)\n",
    "sp.simplify(sys)"
   ]
  },
  {
   "cell_type": "markdown",
   "id": "c3c2c07a-5ac3-467c-81fe-ebe74b02084f",
   "metadata": {},
   "source": [
    "Véase que el termino senosoidal nunca es 0, luego basta con verificar que el término diferencial es 0"
   ]
  },
  {
   "cell_type": "markdown",
   "id": "44afcb44-e0cb-4adc-8b04-b770341c64e1",
   "metadata": {},
   "source": [
    "Finalmente si nombramos $$\\frac{(\\triangle\\mu)^2}{(\\triangle\\nu)^2} = \\alpha$$"
   ]
  },
  {
   "cell_type": "code",
   "execution_count": 95,
   "id": "65acd7e0-7058-4c9b-b7d9-f5fc1b4270e4",
   "metadata": {
    "tags": []
   },
   "outputs": [
    {
     "data": {
      "image/png": "[encoded data removed]",
      "text/latex": [
       "$\\displaystyle V_{i+1,j} - 2 V_{i,j} + V_{i-1,j} + \\alpha \\left(V_{i,j+1} + V_{i,j-1} - 2 V_{i,j}\\right) = 0$"
      ],
      "text/plain": [
       "V_{i+1,j} - 2⋅V_{i,j} + V_{i-1,j} + \\alpha⋅(V_{i,j+1} + V_{i,j-1} - 2⋅V_{i,j}) = 0"
      ]
     },
     "execution_count": 95,
     "metadata": {},
     "output_type": "execute_result"
    }
   ],
   "source": [
    "alpha = sp.Symbol(r'\\alpha')\n",
    "rhs = Vi1j - 2*Vij + Vim1j + (Vij1 - 2*Vij + Vijm1)*alpha\n",
    "new_eq = sp.Eq(rhs, 0)\n",
    "new_eq"
   ]
  },
  {
   "cell_type": "markdown",
   "id": "3375e8aa-615e-4b40-8f36-b7bbeb9ee170",
   "metadata": {},
   "source": [
    "El cual puede ser escrito como:"
   ]
  },
  {
   "cell_type": "code",
   "execution_count": 98,
   "id": "22f7acf0-904b-4d58-8f17-8ea760c6176f",
   "metadata": {
    "tags": []
   },
   "outputs": [
    {
     "data": {
      "image/png": "[encoded data removed]",
      "text/latex": [
       "$\\displaystyle V_{i+1,j} + V_{i,j+1} \\alpha + V_{i,j-1} \\alpha + V_{i,j} \\left(- 2 \\alpha - 2\\right) + V_{i-1,j} = 0$"
      ],
      "text/plain": [
       "V_{i+1,j} + V_{i,j+1}⋅\\alpha + V_{i,j-1}⋅\\alpha + V_{i,j}⋅(-2⋅\\alpha - 2) + V_{i-1,j} = 0"
      ]
     },
     "execution_count": 98,
     "metadata": {},
     "output_type": "execute_result"
    }
   ],
   "source": [
    "rhs = -2*(1+alpha)*Vij + Vi1j + Vim1j + alpha*Vij1 + alpha*Vijm1\n",
    "final_eq = Eq(rhs, 0)\n",
    "final_eq"
   ]
  },
  {
   "cell_type": "markdown",
   "id": "138287d9-146e-452d-a685-a065bcd4e59b",
   "metadata": {
    "tags": []
   },
   "source": [
    "Ahora con nuestro esquema de diferencias finitas listas y las condiciones de frontera armemos nuestro sistema global"
   ]
  },
  {
   "cell_type": "markdown",
   "id": "f5ef5fde-e551-4c36-9a7a-658d23a45799",
   "metadata": {},
   "source": [
    "## Solución del Potencial Eléctrico"
   ]
  },
  {
   "cell_type": "code",
   "execution_count": 184,
   "id": "7f0fa8fe-c3f6-4625-9297-e15dd1d7100a",
   "metadata": {},
   "outputs": [],
   "source": [
    "def electric_potential(n_u1, n_u2, v_ext, v_int):\n",
    "    # Divide the domain acording to n_u1 and n_u2\n",
    "    \n",
    "    mu = np.linspace(0.1, 1, n_u1)\n",
    "    nu = np.linspace(0, 2*np.pi, n_u2)\n",
    "    dmu = mu[1] - mu[0]\n",
    "    dnu = nu[1] - nu[0]\n",
    "    alpha = (dmu**2)/(dnu**2)\n",
    "    tg = lambda i, j: i*(n_u2) + j # To global\n",
    "    dim = n_u1 * n_u2\n",
    "    \n",
    "    A = csr_matrix((dim, dim))\n",
    "    b = csr_matrix((dim, 1))\n",
    "    \n",
    "    ij = np.zeros((dim, 2))\n",
    "    \n",
    "    for k in range(dim):\n",
    "        # First let's identify i, j in the global system\n",
    "        i = k//n_u2\n",
    "        j = k - (k//n_u2)*n_u2\n",
    "        ij[k, 0] = i\n",
    "        ij[k, 1] = j\n",
    "        \n",
    "        ### Condiciones de frontera\n",
    "        if(i == 0): # Condición interna\n",
    "            nu = dnu * j # + nu_inicial, pero nu inicial es 0\n",
    "            A[k, k] = 1\n",
    "            b[k, :] = v_int(nu)\n",
    "        elif(i == n_u1 - 1): # Condición externa\n",
    "            A[k, k] = 1\n",
    "            b[k, :] = v_ext\n",
    "        else: # Condición general, aplicar ecuación\n",
    "            A[k, k] = -2*(1+alpha)\n",
    "            A[k, tg(i+1, j)] = 1\n",
    "            A[k, tg(i-1, j)] = 1\n",
    "            A[k, tg(i, j+1)] = alpha\n",
    "            A[k, tg(i, j-1)] = alpha\n",
    "            \n",
    "    \n",
    "    potential = spsolve(A, b)\n",
    "    potential = potential.reshape(-1, 1)\n",
    "        \n",
    "    return np.hstack((ij, potential))"
   ]
  },
  {
   "cell_type": "code",
   "execution_count": 186,
   "id": "4b0f53d8-41a3-4410-bf52-a0f5a0f94755",
   "metadata": {},
   "outputs": [],
   "source": [
    "n_u = 20\n",
    "n_v = 10\n",
    "v_ext = 3\n",
    "v_int = lambda v: np.sin(2*v)\n",
    "\n",
    "e_potential = electric_potential(n_u, n_v, v_ext, v_int)\n",
    "\n",
    "\n",
    "#with np.printoptions(threshold=np.inf):\n",
    "#print(ans)"
   ]
  },
  {
   "cell_type": "markdown",
   "id": "8494e21f-92a3-471c-863f-d105fbd2399d",
   "metadata": {},
   "source": [
    "## Solución Campo Eléctrico"
   ]
  },
  {
   "cell_type": "markdown",
   "id": "d2a67044-6121-4976-81aa-247a40ef7ee7",
   "metadata": {},
   "source": [
    "De electromagnetismo conocemos que para calcular el campo eléctrico podemos uilizar la expresión: \n",
    "$$\\vec{E} = -\\nabla V$$"
   ]
  },
  {
   "cell_type": "code",
   "execution_count": null,
   "id": "549d1a58-76c1-465e-ada7-9df020fba3a8",
   "metadata": {},
   "outputs": [],
   "source": []
  },
  {
   "cell_type": "code",
   "execution_count": 127,
   "id": "935ef66a-e637-4365-bfdb-ccc841e0172d",
   "metadata": {},
   "outputs": [],
   "source": [
    "to_global = lambda i, j: i*(n_v) + j "
   ]
  },
  {
   "cell_type": "code",
   "execution_count": 163,
   "id": "18b88cb3-91c0-4f33-b68a-d54f0d6173f3",
   "metadata": {
    "tags": []
   },
   "outputs": [
    {
     "data": {
      "text/plain": [
       "array([0.1       , 0.11836735, 0.13673469, 0.15510204, 0.17346939,\n",
       "       0.19183673, 0.21020408, 0.22857143, 0.24693878, 0.26530612,\n",
       "       0.28367347, 0.30204082, 0.32040816, 0.33877551, 0.35714286,\n",
       "       0.3755102 , 0.39387755, 0.4122449 , 0.43061224, 0.44897959,\n",
       "       0.46734694, 0.48571429, 0.50408163, 0.52244898, 0.54081633,\n",
       "       0.55918367, 0.57755102, 0.59591837, 0.61428571, 0.63265306,\n",
       "       0.65102041, 0.66938776, 0.6877551 , 0.70612245, 0.7244898 ,\n",
       "       0.74285714, 0.76122449, 0.77959184, 0.79795918, 0.81632653,\n",
       "       0.83469388, 0.85306122, 0.87142857, 0.88979592, 0.90816327,\n",
       "       0.92653061, 0.94489796, 0.96326531, 0.98163265, 1.        ])"
      ]
     },
     "execution_count": 163,
     "metadata": {},
     "output_type": "execute_result"
    }
   ],
   "source": [
    "mu = np.linspace(0.1, 1, 50)\n",
    "mu"
   ]
  }
 ],
 "metadata": {
  "kernelspec": {
   "display_name": "nm",
   "language": "python",
   "name": "nm"
  },
  "language_info": {
   "codemirror_mode": {
    "name": "ipython",
    "version": 3
   },
   "file_extension": ".py",
   "mimetype": "text/x-python",
   "name": "python",
   "nbconvert_exporter": "python",
   "pygments_lexer": "ipython3",
   "version": "3.11.4"
  }
 },
 "nbformat": 4,
 "nbformat_minor": 5
}
