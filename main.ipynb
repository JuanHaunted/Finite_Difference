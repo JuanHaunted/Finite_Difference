{
 "cells": [
  {
   "cell_type": "markdown",
   "id": "5e337c50-2968-4947-9d35-aaeebbf87f99",
   "metadata": {},
   "source": [
    "# Capacitor de Placas Concéntricas Elípticas"
   ]
  },
  {
   "cell_type": "markdown",
   "id": "8691aa9a-2a66-418a-809c-9cd981b7c125",
   "metadata": {},
   "source": [
    "En el capacitor, la placa exterior se encuentra a un potencial eléctrico $V_{ext}(\\nu)$, mientras que la placa interior se encuentra a un potencial $V_{int}(\\nu)$. El problema de valores en la frontera descrito en coordenadas elípticas se define:\n",
    "\n",
    "$$\\frac{1}{\\sinh^2(\\mu)+\\sin^2(\\nu)} (\\frac{\\partial^2V}{\\partial\\mu^2} + \\frac{\\partial^2V}{\\partial\\nu^2}) = 0,    \\forall(\\mu,\\nu) \\in \\Omega$$\n",
    "\n",
    "$$V(0.1, \\nu) = 0, \\forall\\nu\\in[0, 2\\pi]$$\n",
    "$$V(1, \\nu) = \\sin(2\\nu), \\forall\\nu\\in[0, 2\\pi]$$\n",
    "\n",
    "donde $\\Omega$ es el dominio acotado por $\\mu \\in [0.1, 1] \\times \\nu \\in [0, 2\\pi]$."
   ]
  },
  {
   "cell_type": "code",
   "execution_count": 1,
   "id": "e36dc3b0-85d6-41b6-a562-57ab5878f003",
   "metadata": {
    "tags": []
   },
   "outputs": [],
   "source": [
    "import numpy as np\n",
    "import sympy as sp\n",
    "import matplotlib.pyplot as plt"
   ]
  },
  {
   "cell_type": "code",
   "execution_count": 4,
   "id": "7f0fa8fe-c3f6-4625-9297-e15dd1d7100a",
   "metadata": {},
   "outputs": [],
   "source": [
    "def electric_potential(n_u1, n_u2, v_ext, v_int):\n",
    "    # Divide the domain acording to n_u1 and n_u2\n",
    "    \n",
    "    mu = np.linspace(0.1, 1, n_u1)\n",
    "    nu = np.linspace(0, 2*np.pi, n_u2)\n",
    "    diff_mu = (1 - 0.1)\n",
    "    to_global = lambda n_u1, i, j: j*(nu_1) + i #Where j corresponds to a movement in u and i in v\n",
    "    \n",
    "    A = np.zeros(n_u1*(n_u2) + n_u2)\n",
    "    #B = np.zeros( ,1)\n",
    "    \n",
    "    return A\n",
    "    \n",
    "    \n",
    "    \n",
    "    "
   ]
  },
  {
   "cell_type": "code",
   "execution_count": null,
   "id": "4b0f53d8-41a3-4410-bf52-a0f5a0f94755",
   "metadata": {},
   "outputs": [],
   "source": [
    "n_u = 50\n",
    "n_v = 50\n",
    "v_ext = "
   ]
  }
 ],
 "metadata": {
  "kernelspec": {
   "display_name": "nm",
   "language": "python",
   "name": "nm"
  },
  "language_info": {
   "codemirror_mode": {
    "name": "ipython",
    "version": 3
   },
   "file_extension": ".py",
   "mimetype": "text/x-python",
   "name": "python",
   "nbconvert_exporter": "python",
   "pygments_lexer": "ipython3",
   "version": "3.11.4"
  }
 },
 "nbformat": 4,
 "nbformat_minor": 5
}
