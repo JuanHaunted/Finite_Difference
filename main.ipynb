{
 "cells": [
  {
   "cell_type": "markdown",
   "id": "5e337c50-2968-4947-9d35-aaeebbf87f99",
   "metadata": {},
   "source": [
    "# Capacitor de Placas Concéntricas Elípticas"
   ]
  },
  {
   "cell_type": "markdown",
   "id": "8691aa9a-2a66-418a-809c-9cd981b7c125",
   "metadata": {},
   "source": [
    "En el capacitor, la placa exterior se encuentra a un potencial eléctrico $V_{ext}(\\nu)$, mientras que la placa interior se encuentra a un potencial $V_{int}(\\nu)$. El problema de valores en la frontera descrito en coordenadas elípticas se define:\n",
    "\n",
    "$$\\frac{1}{\\sinh^2(\\mu)+\\sin^2(\\nu)} (\\frac{\\partial^2V}{\\partial\\mu^2} + \\frac{\\partial^2V}{\\partial\\nu^2}) = 0,    \\forall(\\mu,\\nu) \\in \\Omega$$\n",
    "\n",
    "$$V(0.1, \\nu) = \\sin(2\\nu), \\forall\\nu\\in[0, 2\\pi]$$\n",
    "$$V(1, \\nu) = 0, \\forall\\nu\\in[0, 2\\pi]$$\n",
    "\n",
    "donde $\\Omega$ es el dominio acotado por $\\mu \\in [0.1, 1] \\times \\nu \\in [0, 2\\pi]$."
   ]
  },
  {
   "cell_type": "code",
   "execution_count": 189,
   "id": "e36dc3b0-85d6-41b6-a562-57ab5878f003",
   "metadata": {
    "tags": []
   },
   "outputs": [],
   "source": [
    "import numpy as np\n",
    "import sympy as sp\n",
    "from sympy import init_printing, Eq\n",
    "from scipy.sparse import csr_matrix, lil_matrix\n",
    "from scipy.sparse.linalg import spsolve\n",
    "import matplotlib.pyplot as plt\n",
    "\n",
    "init_printing()"
   ]
  },
  {
   "cell_type": "code",
   "execution_count": 57,
   "id": "b9d5fd18-a65c-4bf0-bb6d-b17811cd8b4c",
   "metadata": {
    "tags": []
   },
   "outputs": [
    {
     "data": {
      "text/latex": [
       "$\\displaystyle \\left( V_{i,j}, \\  V_{i+1,j}, \\  V_{i,j+1}, \\  V_{i-1,j}, \\  V_{i,j-1}, \\  \\triangle\\mu, \\  \\triangle\\nu, \\  \\mu, \\  \\nu\\right)$"
      ],
      "text/plain": [
       "(V_{i,j}, V_{i+1,j}, V_{i,j+1}, V_{i-1,j}, V_{i,j-1}, \\triangle\\mu, \\triangle\\nu, \\mu, \\nu)"
      ]
     },
     "execution_count": 57,
     "metadata": {},
     "output_type": "execute_result"
    }
   ],
   "source": [
    "Vij, Vi1j, Vij1, Vim1j, Vijm1, du, dv = sp.symbols(r'V_{i\\,j} V_{i+1\\,j} V_{i\\,j+1} V_{i-1\\,j} V_{i\\,j-1} \\triangle\\mu \\triangle\\nu')\n",
    "u, v = sp.symbols(r'\\mu \\nu')\n",
    "Vij, Vi1j, Vij1, Vim1j, Vijm1, du, dv, u, v"
   ]
  },
  {
   "cell_type": "markdown",
   "id": "4747ce04-02df-4b09-8a6f-e47688a9d224",
   "metadata": {},
   "source": [
    "### Escribamos el esquema de diferencias finitas "
   ]
  },
  {
   "cell_type": "code",
   "execution_count": 80,
   "id": "e9ebc9c1-80fd-4b50-995e-168c71338e55",
   "metadata": {
    "tags": []
   },
   "outputs": [
    {
     "data": {
      "text/latex": [
       "$\\displaystyle \\frac{\\triangle\\mu^{2} \\left(V_{i,j+1} + V_{i,j-1} - 2 V_{i,j}\\right) + \\triangle\\nu^{2} \\left(V_{i+1,j} - 2 V_{i,j} + V_{i-1,j}\\right)}{\\triangle\\mu^{2} \\triangle\\nu^{2}} = 0$"
      ],
      "text/plain": [
       "            2                                                   2                                        \n",
       "\\triangle\\mu ⋅(V_{i,j+1} + V_{i,j-1} - 2⋅V_{i,j}) + \\triangle\\nu ⋅(V_{i+1,j} - 2⋅V_{i,j} + V_{i-1,j})    \n",
       "───────────────────────────────────────────────────────────────────────────────────────────────────── = 0\n",
       "                                                 2             2                                         \n",
       "                                     \\triangle\\mu ⋅\\triangle\\nu                                          "
      ]
     },
     "execution_count": 80,
     "metadata": {},
     "output_type": "execute_result"
    }
   ],
   "source": [
    "laplacian = (((Vi1j - 2*Vij + Vim1j)/du**2) + ((Vij1 - 2*Vij + Vijm1)/dv**2))\n",
    "sys = Eq(laplacian, 0)\n",
    "sp.simplify(sys)"
   ]
  },
  {
   "cell_type": "markdown",
   "id": "c3c2c07a-5ac3-467c-81fe-ebe74b02084f",
   "metadata": {},
   "source": [
    "Véase que el termino senosoidal nunca es 0, luego basta con verificar que el término diferencial es 0"
   ]
  },
  {
   "cell_type": "markdown",
   "id": "44afcb44-e0cb-4adc-8b04-b770341c64e1",
   "metadata": {},
   "source": [
    "Finalmente si nombramos $$\\frac{(\\triangle\\mu)^2}{(\\triangle\\nu)^2} = \\alpha$$"
   ]
  },
  {
   "cell_type": "code",
   "execution_count": 95,
   "id": "65acd7e0-7058-4c9b-b7d9-f5fc1b4270e4",
   "metadata": {
    "tags": []
   },
   "outputs": [
    {
     "data": {
      "image/png": "[encoded data removed]",
      "text/latex": [
       "$\\displaystyle V_{i+1,j} - 2 V_{i,j} + V_{i-1,j} + \\alpha \\left(V_{i,j+1} + V_{i,j-1} - 2 V_{i,j}\\right) = 0$"
      ],
      "text/plain": [
       "V_{i+1,j} - 2⋅V_{i,j} + V_{i-1,j} + \\alpha⋅(V_{i,j+1} + V_{i,j-1} - 2⋅V_{i,j}) = 0"
      ]
     },
     "execution_count": 95,
     "metadata": {},
     "output_type": "execute_result"
    }
   ],
   "source": [
    "alpha = sp.Symbol(r'\\alpha')\n",
    "rhs = Vi1j - 2*Vij + Vim1j + (Vij1 - 2*Vij + Vijm1)*alpha\n",
    "new_eq = sp.Eq(rhs, 0)\n",
    "new_eq"
   ]
  },
  {
   "cell_type": "markdown",
   "id": "3375e8aa-615e-4b40-8f36-b7bbeb9ee170",
   "metadata": {},
   "source": [
    "El cual puede ser escrito como:"
   ]
  },
  {
   "cell_type": "code",
   "execution_count": 98,
   "id": "22f7acf0-904b-4d58-8f17-8ea760c6176f",
   "metadata": {
    "tags": []
   },
   "outputs": [
    {
     "data": {
      "image/png": "[encoded data removed]",
      "text/latex": [
       "$\\displaystyle V_{i+1,j} + V_{i,j+1} \\alpha + V_{i,j-1} \\alpha + V_{i,j} \\left(- 2 \\alpha - 2\\right) + V_{i-1,j} = 0$"
      ],
      "text/plain": [
       "V_{i+1,j} + V_{i,j+1}⋅\\alpha + V_{i,j-1}⋅\\alpha + V_{i,j}⋅(-2⋅\\alpha - 2) + V_{i-1,j} = 0"
      ]
     },
     "execution_count": 98,
     "metadata": {},
     "output_type": "execute_result"
    }
   ],
   "source": [
    "rhs = -2*(1+alpha)*Vij + Vi1j + Vim1j + alpha*Vij1 + alpha*Vijm1\n",
    "final_eq = Eq(rhs, 0)\n",
    "final_eq"
   ]
  },
  {
   "cell_type": "markdown",
   "id": "138287d9-146e-452d-a685-a065bcd4e59b",
   "metadata": {
    "tags": []
   },
   "source": [
    "Ahora con nuestro esquema de diferencias finitas listas y las condiciones de frontera armemos nuestro sistema global teniendo además en cuenta que:\n",
    "$$V_{i, j-1} = V_{i, j_{max}} \\land V_{i, j_{max}+1} = V_{i, 0}$$"
   ]
  },
  {
   "cell_type": "markdown",
   "id": "f5ef5fde-e551-4c36-9a7a-658d23a45799",
   "metadata": {},
   "source": [
    "## Solución del Potencial Eléctrico"
   ]
  },
  {
   "cell_type": "code",
   "execution_count": 234,
   "id": "7f0fa8fe-c3f6-4625-9297-e15dd1d7100a",
   "metadata": {},
   "outputs": [],
   "source": [
    "def electric_potential(n_u1, n_u2, v_ext, v_int):\n",
    "    # Divide the domain acording to n_u1 and n_u2\n",
    "    \n",
    "    mu = np.linspace(0.1, 1, n_u1)\n",
    "    nu = np.linspace(0, 2*np.pi, n_u2 + 1)\n",
    "    dmu = mu[1] - mu[0]\n",
    "    dnu = nu[1] - nu[0]\n",
    "    alpha = (dmu**2)/(dnu**2)\n",
    "    tg = lambda i, j: i*(n_u2) + j # To global\n",
    "    dim = n_u1 * n_u2\n",
    "    \n",
    "    A = lil_matrix((dim, dim))\n",
    "    b = lil_matrix((dim, 1))\n",
    "    \n",
    "    ij = np.zeros((dim, 2))\n",
    "    \n",
    "    j_max = n_u2 - 1\n",
    "    \n",
    "    for k in range(dim):\n",
    "        # First let's identify i, j in the global system\n",
    "        i = k//n_u2\n",
    "        j = k - (k//n_u2)*n_u2\n",
    "        ij[k, 0] = i\n",
    "        ij[k, 1] = j\n",
    "        \n",
    "        ### Condiciones de frontera\n",
    "        if(i == 0): # Condición interna\n",
    "            nu = dnu * j # + nu_inicial, pero nu inicial es 0\n",
    "            A[k, k] = 1\n",
    "            b[k, :] = v_int(nu)\n",
    "        elif(i == n_u1 - 1): # Condición externa\n",
    "            A[k, k] = 1\n",
    "            b[k, :] = v_ext\n",
    "        else: # Condición general, aplicar ecuación\n",
    "            A[k, k] = -2*(1+alpha)\n",
    "            A[k, tg(i+1, j)] = 1\n",
    "            A[k, tg(i-1, j)] = 1\n",
    "            \n",
    "            if(j == j_max):\n",
    "                A[k, tg(i, 0)] = alpha\n",
    "            else:\n",
    "                A[k, tg(i, j+1)] = alpha\n",
    "            \n",
    "            if(j == 0):\n",
    "                A[k, tg(i, j_max)] = alpha\n",
    "            else:\n",
    "                A[k, tg(i, j-1)] = alpha\n",
    "            \n",
    "    \n",
    "    potential = spsolve(csr_matrix(A), csr_matrix(b))\n",
    "    potential = potential.reshape(-1, 1)\n",
    "        \n",
    "    return np.hstack((ij, potential))"
   ]
  },
  {
   "cell_type": "markdown",
   "id": "8494e21f-92a3-471c-863f-d105fbd2399d",
   "metadata": {},
   "source": [
    "## Solución Campo Eléctrico"
   ]
  },
  {
   "cell_type": "markdown",
   "id": "d2a67044-6121-4976-81aa-247a40ef7ee7",
   "metadata": {},
   "source": [
    "De electromagnetismo conocemos que para calcular el campo eléctrico podemos uilizar la expresión: \n",
    "$$\\vec{E} = -\\nabla V$$\n",
    "Es decir:\n",
    "$$\\vec{E} = -\\frac{1}{c \\sqrt{\\sinh^2{\\mu} + \\sin^2{\\nu}}}(\\frac{\\partial V}{\\partial \\mu}, \\frac{\\partial V}{\\partial \\nu})$$\n",
    "Como ya conocemos el potencial eléctrico en todos los lugares del espacio podemos solucionar con un esquema de diferencias finitas con la siguiente regla de formación: \n",
    "$$i = 0 \\Rightarrow \\frac{\\partial V}{\\partial \\mu} = \\frac{V_{i+1,j} - V_{i,j}}{\\triangle\\mu}$$\n",
    "$$i = i_{max} \\Rightarrow \\frac{\\partial V}{\\partial \\mu} = \\frac{V_{i,j} - V_{i-1,j}}{\\triangle\\mu}$$\n",
    "$$i \\neq 0 \\land i \\neq i_{max} \\Rightarrow \\frac{\\partial V}{\\partial \\mu} = \\frac{V_{i+1,j} - V_{i-1,j}}{2\\triangle\\mu}$$\n",
    "$$\\forall j \\in [0, j_{max}] \\Rightarrow \\frac{\\partial V}{\\partial \\nu} = \\frac{V_{i,j + 1} - V_{i,j - 1}}{2\\triangle\\nu}$$ \n",
    "Teniendo en cuenta que si $j=0$:\n",
    "$$V_{i, j-1} = V_{i, j_{max}}$$\n",
    "y si $j=j_{max}$:\n",
    "$$V_{i, j_{max}+1} = V_{i, 0}$$"
   ]
  },
  {
   "cell_type": "code",
   "execution_count": 254,
   "id": "549d1a58-76c1-465e-ada7-9df020fba3a8",
   "metadata": {
    "tags": []
   },
   "outputs": [],
   "source": [
    "def electric_field(n_u1, n_u2, e_potential):\n",
    "    mu = np.linspace(0.1, 1, n_u1)\n",
    "    nu = np.linspace(0, 2*np.pi, n_u2 + 1)\n",
    "    dmu = mu[1] - mu[0]\n",
    "    dnu = nu[1] - nu[0]\n",
    "    dim = n_u1 * n_u2\n",
    "    e_field = np.zeros((dim, 4))\n",
    "    e_field[:, 0:2] = e_potential[:, 0:2]\n",
    "    tg = lambda i, j: i*(n_u2) + j # To global\n",
    "    i_max = n_u1 - 1\n",
    "    j_max = n_u2 - 1\n",
    "    V = e_potential[:, 2]\n",
    "    c = 1\n",
    "    \n",
    "    for k in range(dim):\n",
    "        i = int(e_potential[k, 0])\n",
    "        j = int(e_potential[k, 1])\n",
    "        \n",
    "        sf = 1 / (c*np.sqrt(np.sinh(mu[i])**2+np.sin(nu[j])**2))\n",
    "        \n",
    "        if(i==0):\n",
    "            e_field[k, 2] = ((V[tg(i+1, j)] - V[tg(i, j)])/dmu) * sf\n",
    "        elif(i == i_max):\n",
    "            e_field[k, 2] = ((V[tg(i, j)] - V[tg(i-1, j)])/dmu) * sf\n",
    "        else:\n",
    "            e_field[k, 2] = ((V[tg(i+1, j)] - V[tg(i-1, j)])/(2*dmu)) * sf\n",
    "        \n",
    "        \n",
    "        if(j==0):\n",
    "            e_field[k, 3] = ((V[tg(i, j+1)] - V[tg(i, j_max)])/(2*dnu)) * sf\n",
    "        elif(j==j_max):\n",
    "            e_field[k, 3] = ((V[tg(i, 0)] - V[tg(i, j-1)])/(2*dnu)) * sf\n",
    "        else:\n",
    "            e_field[k, 3] = ((V[tg(i, j+1)] - V[tg(i, j-1)])/(2*dnu)) * sf\n",
    "        \n",
    "        \n",
    "    return e_field"
   ]
  },
  {
   "cell_type": "code",
   "execution_count": 257,
   "id": "e63a9e5e-f420-427f-a117-74aea6fe15fa",
   "metadata": {
    "tags": []
   },
   "outputs": [],
   "source": [
    "def to_eliptical(index_matrix, div_i):\n",
    "    eliptical_coord = np.zeros((index_matrix.shape[0], index_matrix.shape[1]))\n",
    "    my_i_index = index_matrix[:, 0]\n",
    "    elipt_i_index = np.linspace(0.1, 1, div_i)\n",
    "    my_elipt_i = elipt_i_index[my_i_index.astype(int)]\n",
    "    \n",
    "    for i in range(index_matrix.shape[0]):\n",
    "        eliptical_coord[i,0] =  my_elipt_i[i]\n",
    "        eliptical_coord[i,1] = (index_matrix[i,1]*2*np.pi)/(index_matrix[-1,1])\n",
    "        eliptical_coord[i,2] = index_matrix[i,2]\n",
    "    return eliptical_coord"
   ]
  },
  {
   "cell_type": "code",
   "execution_count": null,
   "id": "0ee5d543-206f-415c-9140-0f63247db810",
   "metadata": {},
   "outputs": [],
   "source": [
    "def plot_electric_solution(n_u1, n_u2, e_potential, e_field):\n",
    "    e_potential = to_eliptical(e_potential, n_u1) \n",
    "    e_field =  to_eliptical(e_field, n_u1)\n",
    "    \n",
    "    # Take "
   ]
  },
  {
   "cell_type": "code",
   "execution_count": 261,
   "id": "8aa5bdb7-a414-4e02-b278-9142e4a0d698",
   "metadata": {
    "tags": []
   },
   "outputs": [
    {
     "data": {
      "text/plain": [
       "array([[0.1       , 0.        , 0.        ],\n",
       "       [0.1       , 0.06346652, 0.12533323],\n",
       "       [0.1       , 0.12693304, 0.24868989],\n",
       "       ...,\n",
       "       [1.        , 6.15625227, 3.        ],\n",
       "       [1.        , 6.21971879, 3.        ],\n",
       "       [1.        , 6.28318531, 3.        ]])"
      ]
     },
     "execution_count": 261,
     "metadata": {},
     "output_type": "execute_result"
    }
   ],
   "source": [
    "n_u = 100\n",
    "n_v = 100\n",
    "v_ext = 3\n",
    "v_int = lambda v: np.sin(2*v)\n",
    "\n",
    "e_potential = electric_potential(n_u, n_v, v_ext, v_int)\n",
    "e_field = electric_field(n_u, n_v, e_potential)\n",
    "\n",
    "transform = to_eliptical(e_potential, n_u)\n",
    "transform"
   ]
  },
  {
   "cell_type": "code",
   "execution_count": null,
   "id": "349e9785-90d7-412f-8610-11384465a8b2",
   "metadata": {},
   "outputs": [],
   "source": []
  }
 ],
 "metadata": {
  "kernelspec": {
   "display_name": "nm",
   "language": "python",
   "name": "nm"
  },
  "language_info": {
   "codemirror_mode": {
    "name": "ipython",
    "version": 3
   },
   "file_extension": ".py",
   "mimetype": "text/x-python",
   "name": "python",
   "nbconvert_exporter": "python",
   "pygments_lexer": "ipython3",
   "version": "3.11.4"
  }
 },
 "nbformat": 4,
 "nbformat_minor": 5
}
